{
 "cells": [
  {
   "cell_type": "code",
   "execution_count": 1,
   "id": "6b4c9082",
   "metadata": {},
   "outputs": [
    {
     "name": "stderr",
     "output_type": "stream",
     "text": [
      "/Users/sofimar/opt/anaconda3/envs/yt_st/lib/python3.9/_collections_abc.py:768: MatplotlibDeprecationWarning: The global colormaps dictionary is no longer considered public API.\n",
      "  self[key]\n"
     ]
    }
   ],
   "source": [
    "import numpy as np\n",
    "import matplotlib.pyplot as plt\n",
    "import yt\n",
    "import trident\n",
    "import chollaread\n",
    "from mpl_toolkits.axes_grid1 import AxesGrid\n",
    "import matplotlib.colors as colors\n",
    "import colorcet as cc\n",
    "from matplotlib.cm import get_cmap\n",
    "from astropy.constants import M_sun"
   ]
  },
  {
   "cell_type": "code",
   "execution_count": 2,
   "id": "de71b169",
   "metadata": {},
   "outputs": [
    {
     "name": "stderr",
     "output_type": "stream",
     "text": [
      "yt : [INFO     ] 2022-05-09 01:12:15,714 Parameters: current_time              = 0.0\n",
      "yt : [INFO     ] 2022-05-09 01:12:15,716 Parameters: domain_dimensions         = [512 256 256]\n",
      "yt : [INFO     ] 2022-05-09 01:12:15,717 Parameters: domain_left_edge          = [0. 0. 0.]\n",
      "yt : [INFO     ] 2022-05-09 01:12:15,717 Parameters: domain_right_edge         = [6.172e+22 3.086e+22 3.086e+22]\n",
      "yt : [INFO     ] 2022-05-09 01:12:15,718 Parameters: cosmological_simulation   = 0.0\n"
     ]
    }
   ],
   "source": [
    "ds = chollaread.load('/Users/sofimar/Desktop/Summer Research/140.h5.0',cell_size_cgs=(10/256)*chollaread.kpc)"
   ]
  },
  {
   "cell_type": "code",
   "execution_count": 22,
   "id": "0325a9a4",
   "metadata": {},
   "outputs": [],
   "source": [
    "def plot(x,y,z):\n",
    "    # Takes in arrays x,y,z\n",
    "    # bins them\n",
    "\n",
    "    # weights by z (for example, for mass-weighting)\n",
    "    \n",
    "    # 100 x bins, 101 y bins. The reason I like to keep x and y different is\n",
    "    # so that the code yells at me when dimensions don't line up\n",
    "    # which can help avoid subtle mistakes\n",
    "\n",
    "    # normed=False makes it easier to scale the colorbar appropriate to show whatever units you prefer\n",
    "    \n",
    "    hist,xedges,yedges = np.histogram2d(x,y,bins=[70,70],normed=False,weights=z)\n",
    "\n",
    "    # xedges and yedges are always longer than needed by 1,\n",
    "    # since N cells have N+1 edges. That's why I truncate xedges[:-1].\n",
    "\n",
    "    # hist.transpose() is needed to transpose the array. This is one downside of using pcolormesh.\n",
    "\n",
    "    # norm=matplotlib.colors.LogNorm() normalizes the color in log scale\n",
    "    \n",
    "    plt.pcolormesh(xedges[:-1],yedges[:-1],hist.transpose(),norm=colors.LogNorm())\n",
    "    plt.colorbar()"
   ]
  },
  {
   "cell_type": "code",
   "execution_count": 23,
   "id": "f308d954",
   "metadata": {},
   "outputs": [],
   "source": [
    "def make_ray(x0, y0, z0, x, y, z):\n",
    "    \n",
    "    k = (3.086E+21)*10 # Code length\n",
    "    \n",
    "    ray_start = np.array([x0,y0,z0])*k\n",
    "    ray_end = np.array([x,y,z])*k\n",
    "    \n",
    "    ray = trident.make_simple_ray(ds,\n",
    "                                 start_position=ray_start,\n",
    "                                 end_position=ray_end,\n",
    "                                 data_filename= 'ray_.h5',\n",
    "                                 lines='all',\n",
    "                                 ftype='gas')\n",
    "    return ray"
   ]
  },
  {
   "cell_type": "code",
   "execution_count": 24,
   "id": "9cd1c4c3",
   "metadata": {},
   "outputs": [
    {
     "name": "stderr",
     "output_type": "stream",
     "text": [
      "yt : [INFO     ] 2022-05-09 01:28:46,125 Getting segment at z = 0.0: [0.47 0.   0.25] unitary to [0.47 0.5  0.25] unitary.\n",
      "yt : [INFO     ] 2022-05-09 01:28:46,127 Getting subsegment: [0.47 unitary, 0.0 unitary, 0.25 unitary] to [0.47 unitary, 0.5 unitary, 0.25 unitary].\n",
      "yt : [INFO     ] 2022-05-09 01:28:46,647 Saving field data to yt dataset: ray_.h5.\n",
      "yt : [INFO     ] 2022-05-09 01:28:46,721 Parameters: current_time              = 0.0 code_time\n",
      "yt : [INFO     ] 2022-05-09 01:28:46,721 Parameters: domain_dimensions         = [2 2 2]\n",
      "yt : [INFO     ] 2022-05-09 01:28:46,722 Parameters: domain_left_edge          = [0. 0. 0.] code_length\n",
      "yt : [INFO     ] 2022-05-09 01:28:46,722 Parameters: domain_right_edge         = [6.172e+22 3.086e+22 3.086e+22] code_length\n",
      "yt : [INFO     ] 2022-05-09 01:28:46,723 Parameters: cosmological_simulation   = 0.0\n"
     ]
    }
   ],
   "source": [
    "ray1 = make_ray(0.94,0,0.5,0.94,1,0.5)"
   ]
  },
  {
   "cell_type": "code",
   "execution_count": 6,
   "id": "88f06b99",
   "metadata": {},
   "outputs": [
    {
     "name": "stderr",
     "output_type": "stream",
     "text": [
      "/Users/sofimar/opt/anaconda3/envs/yt_st/lib/python3.9/site-packages/trident/ion_balance.py:292: UserWarning: The \"particle_type\" keyword is deprecated. Please use \"sampling_type\" instead.\n",
      "  _determine_sampling_type(ds, sampling_type, particle_type)\n",
      "yt : [INFO     ] 2022-05-09 01:13:51,067 Allocating for 2.560e+02 particles (index particle type 'all')\n",
      "yt : [INFO     ] 2022-05-09 01:13:51,071 Identified 1.210e+02 octs\n"
     ]
    }
   ],
   "source": [
    "trident.add_ion_fields(ray1, ions=['H I', 'H II'], ftype=\"gas\", particle_type=False)"
   ]
  },
  {
   "cell_type": "code",
   "execution_count": 20,
   "id": "4665dfa6",
   "metadata": {},
   "outputs": [],
   "source": [
    "HI_den = np.array(ray1.all_data()['H_p0_density'])\n",
    "temp = np.log10(np.array(ray1.all_data()['temperature']))\n",
    "den = np.log10(np.array(ray1.all_data()['density']))"
   ]
  },
  {
   "cell_type": "code",
   "execution_count": 25,
   "id": "4cd453cd",
   "metadata": {},
   "outputs": [
    {
     "name": "stderr",
     "output_type": "stream",
     "text": [
      "<ipython-input-22-a5128036cb67>:22: MatplotlibDeprecationWarning: shading='flat' when X and Y have the same dimensions as C is deprecated since 3.3.  Either specify the corners of the quadrilaterals with X and Y, or pass shading='auto', 'nearest' or 'gouraud', or set rcParams['pcolor.shading'].  This will become an error two minor releases later.\n",
      "  plt.pcolormesh(xedges[:-1],yedges[:-1],hist.transpose(),norm=colors.LogNorm())\n"
     ]
    },
    {
     "data": {
      "image/png": "[encoded data removed]",
      "text/plain": [
       "<Figure size 432x288 with 2 Axes>"
      ]
     },
     "metadata": {
      "needs_background": "light"
     },
     "output_type": "display_data"
    }
   ],
   "source": [
    "plot(den,temp,HI_den)"
   ]
  },
  {
   "cell_type": "code",
   "execution_count": 9,
   "id": "d13ee283",
   "metadata": {},
   "outputs": [
    {
     "data": {
      "text/plain": [
       "array([6.3932619 , 6.39295034, 6.39250493, 6.39212585, 6.39196199,\n",
       "       6.39186997, 6.3918424 , 6.39188339, 6.39206465, 6.39220611,\n",
       "       6.39221903, 6.39219303, 6.39210531, 6.39181296, 6.39133566,\n",
       "       6.39075703, 6.39037747, 6.39006312, 6.38971024, 6.38936842,\n",
       "       6.38912996, 6.38884285, 6.3884203 , 6.38790175, 6.38746609,\n",
       "       6.38711265, 6.38680765, 6.38663783, 6.38661558, 6.3866803 ,\n",
       "       6.3867874 , 6.3870292 , 6.38730449, 6.3877328 , 6.38789623,\n",
       "       6.38798136, 6.38793202, 6.38767254, 6.38726221, 6.38680167,\n",
       "       6.38636238, 6.38585119, 6.38549318, 6.38526942, 6.38515965,\n",
       "       6.3850888 , 6.38504205, 6.38495793, 6.38468898, 6.38406073,\n",
       "       6.38322399, 6.38263115, 6.38272177, 6.38324195, 6.38443955,\n",
       "       6.38596824, 6.38737282, 6.38805667, 6.38823131, 6.38806166,\n",
       "       6.38769735, 6.38729956, 6.3868295 , 6.38628056, 6.38547836,\n",
       "       6.3846189 , 6.38400254, 6.38375976, 6.38388805, 6.38420377,\n",
       "       6.38469632, 6.38487412, 6.38458333, 6.38437298, 6.3844628 ,\n",
       "       6.38486622, 6.38541593, 6.38600284, 6.38671436, 6.38731742,\n",
       "       6.38764348, 6.38771443, 6.3877356 , 6.38760545, 6.38772554,\n",
       "       6.38828322, 6.38907928, 6.39034518, 6.39104375, 6.39129324,\n",
       "       6.39132768, 6.39104575, 6.39044528, 6.39060698, 6.39137183,\n",
       "       6.39244396, 6.39386677, 6.39417503, 6.39394526, 6.39289274,\n",
       "       6.39269461, 6.39251781, 6.39191703, 6.38618173, 6.38964094,\n",
       "       6.39068839, 6.39434297, 4.07667584, 4.00053712, 4.00053712,\n",
       "       4.00053712, 4.00053712, 4.00053712, 4.00053712, 4.00053712,\n",
       "       4.00053712, 4.00053712, 4.00053712, 4.00053712, 4.00053712,\n",
       "       4.00053712, 4.00053712, 4.00053712, 4.00053712, 4.00053712,\n",
       "       4.00053712, 4.00053712, 4.00053712, 4.00053712, 4.00053712,\n",
       "       4.00053712, 4.00053712, 4.00053712, 4.00053712, 4.00053712,\n",
       "       4.00053712, 4.00053712, 4.00053712, 4.00053712, 4.00053712,\n",
       "       4.00053712, 4.00053712, 4.00053712, 4.00053712, 4.00053712,\n",
       "       4.00053712, 4.00053712, 4.00053712, 4.00053712, 4.00053712,\n",
       "       4.00053712, 4.00053712, 4.00053712, 4.00053712, 4.00053712,\n",
       "       4.00053712, 4.00053712, 4.00053712, 4.00053712, 4.00053712,\n",
       "       4.00053712, 4.00053712, 4.00053712, 4.00053712, 4.00053712,\n",
       "       4.00053712, 4.00053712, 4.00053712, 4.00053712, 4.00053712,\n",
       "       4.00053712, 4.00053712, 4.00053712, 4.00053712, 4.00053712,\n",
       "       4.00053712, 4.00053712, 4.00053712, 4.00053712, 4.00053712,\n",
       "       4.00053712, 4.00053712, 4.00053712, 4.00053712, 4.00053712,\n",
       "       4.22850875, 5.99494551, 6.35914893, 6.3403137 , 6.34856204,\n",
       "       6.36485434, 6.37041032, 6.37330025, 6.36948479, 6.36761948,\n",
       "       6.36624957, 6.3642229 , 6.36332097, 6.36240114, 6.36300159,\n",
       "       6.36318285, 6.3632192 , 6.36365864, 6.36630166, 6.36897283,\n",
       "       6.37062521, 6.37135872, 6.37197455, 6.37305194, 6.37389167,\n",
       "       6.37429687, 6.37409702, 6.37387348, 6.37397948, 6.3746042 ,\n",
       "       6.37542029, 6.37604334, 6.37664105, 6.37751926, 6.37842567,\n",
       "       6.37904808, 6.37925551, 6.37930268, 6.37923341, 6.37912816,\n",
       "       6.37886392, 6.37858408, 6.37832151, 6.37823013, 6.37844053,\n",
       "       6.37873391, 6.37898008, 6.3792462 , 6.37943886, 6.37975045,\n",
       "       6.38005607, 6.38047689, 6.38097777, 6.38158902, 6.38212581,\n",
       "       6.38270214, 6.38308235, 6.38315915, 6.38300263, 6.38272137,\n",
       "       6.38251924, 6.38232625, 6.38229844, 6.38240565, 6.38281849,\n",
       "       6.38318351, 6.38369772, 6.38394531, 6.38422199, 6.38432904,\n",
       "       6.38459156])"
      ]
     },
     "execution_count": 9,
     "metadata": {},
     "output_type": "execute_result"
    }
   ],
   "source": [
    "temp"
   ]
  },
  {
   "cell_type": "code",
   "execution_count": 10,
   "id": "810c42ed",
   "metadata": {},
   "outputs": [
    {
     "data": {
      "text/plain": [
       "array([-27.75896166, -27.75942577, -27.76008575, -27.76064497,\n",
       "       -27.7608774 , -27.76099601, -27.76102897, -27.76095991,\n",
       "       -27.76067664, -27.760454  , -27.76042455, -27.76046011,\n",
       "       -27.76058718, -27.7609882 , -27.76161212, -27.76236081,\n",
       "       -27.76287125, -27.76331883, -27.76385131, -27.76436556,\n",
       "       -27.76472402, -27.76515219, -27.76578414, -27.7665603 ,\n",
       "       -27.76721051, -27.76773569, -27.76818548, -27.76842993,\n",
       "       -27.76846375, -27.76837337, -27.7682202 , -27.76786751,\n",
       "       -27.76745326, -27.7668032 , -27.76654979, -27.76641618,\n",
       "       -27.76648614, -27.76687015, -27.76748184, -27.76817248,\n",
       "       -27.76882752, -27.76959321, -27.77013027, -27.77046568,\n",
       "       -27.77063205, -27.77073781, -27.77080861, -27.77093462,\n",
       "       -27.77133773, -27.77227635, -27.77352617, -27.77441241,\n",
       "       -27.77427361, -27.77348756, -27.77168443, -27.76937886,\n",
       "       -27.76726813, -27.7662392 , -27.76597789, -27.76623369,\n",
       "       -27.76678582, -27.76739223, -27.76810775, -27.76893754,\n",
       "       -27.77013243, -27.77141153, -27.77232859, -27.77269268,\n",
       "       -27.77249198, -27.77201748, -27.77126969, -27.77100613,\n",
       "       -27.77143865, -27.77175382, -27.77160544, -27.77099501,\n",
       "       -27.77015798, -27.76928775, -27.76820056, -27.76730844,\n",
       "       -27.76680168, -27.76668451, -27.76666382, -27.7668774 ,\n",
       "       -27.7667117 , -27.76591015, -27.76469833, -27.76279733,\n",
       "       -27.76175894, -27.76159815, -27.76152889, -27.7618444 ,\n",
       "       -27.76261812, -27.76258826, -27.76168018, -27.76026866,\n",
       "       -27.75823693, -27.75774602, -27.75768851, -27.75956866,\n",
       "       -27.76007246, -27.76148576, -27.7627556 , -27.7698397 ,\n",
       "       -27.77226892, -27.76403519, -27.75511147, -25.88755039,\n",
       "       -25.48617771, -25.4177762 , -25.39531071, -25.36314225,\n",
       "       -25.32555231, -25.34236354, -25.36726776, -25.38185885,\n",
       "       -25.39245016, -25.41432593, -25.40358177, -25.35416983,\n",
       "       -25.28075898, -25.20308164, -25.1240857 , -25.1346427 ,\n",
       "       -25.2553636 , -25.32463492, -25.28353592, -25.18484883,\n",
       "       -25.10494616, -25.21344126, -25.47802559, -25.89666207,\n",
       "       -25.9302785 , -25.80071144, -25.7920782 , -25.66623409,\n",
       "       -25.50291944, -25.46850575, -25.43419933, -25.51522189,\n",
       "       -25.49898148, -25.39562093, -25.50115792, -25.63447556,\n",
       "       -25.67381816, -25.6497763 , -25.56584532, -25.55737391,\n",
       "       -25.59746377, -25.69799936, -25.76410396, -25.80886252,\n",
       "       -25.91489601, -25.93981814, -25.85316515, -25.85518114,\n",
       "       -25.74551414, -25.64892187, -25.76613543, -26.05107088,\n",
       "       -26.10895139, -26.13375101, -26.09857722, -25.97532365,\n",
       "       -25.72830559, -25.67171543, -25.83682949, -25.96750645,\n",
       "       -26.21394977, -26.28519416, -26.32034602, -26.30813653,\n",
       "       -26.02226541, -25.6520655 , -25.38361466, -25.42142265,\n",
       "       -25.52024467, -25.54514242, -25.55676332, -25.57021428,\n",
       "       -25.63136048, -25.7439619 , -25.8929804 , -25.90198738,\n",
       "       -25.9049797 , -26.30405795, -27.66056842, -27.92499151,\n",
       "       -27.86307555, -27.83160802, -27.82986254, -27.81177359,\n",
       "       -27.80257126, -27.79994306, -27.79985799, -27.79916407,\n",
       "       -27.80220531, -27.80334108, -27.80452529, -27.80370905,\n",
       "       -27.80333426, -27.80338075, -27.80268722, -27.79874686,\n",
       "       -27.79472285, -27.79223961, -27.79114891, -27.79022917,\n",
       "       -27.7886128 , -27.78735041, -27.78674921, -27.78705564,\n",
       "       -27.78739891, -27.78724087, -27.78631713, -27.78509627,\n",
       "       -27.78417119, -27.78329051, -27.78197926, -27.78063487,\n",
       "       -27.77970305, -27.7794023 , -27.77933645, -27.77944592,\n",
       "       -27.77960786, -27.7800057 , -27.78042734, -27.78082408,\n",
       "       -27.78096293, -27.7806497 , -27.78020919, -27.77985206,\n",
       "       -27.77945389, -27.77917333, -27.77870179, -27.77824896,\n",
       "       -27.77761592, -27.77687227, -27.77595568, -27.77515845,\n",
       "       -27.77431   , -27.77377955, -27.77370331, -27.77398165,\n",
       "       -27.77441144, -27.77472453, -27.77501679, -27.77507347,\n",
       "       -27.77491468, -27.77430654, -27.7737556 , -27.77299369,\n",
       "       -27.77262424, -27.77222453, -27.7720682 , -27.7716842 ])"
      ]
     },
     "execution_count": 10,
     "metadata": {},
     "output_type": "execute_result"
    }
   ],
   "source": [
    "den"
   ]
  },
  {
   "cell_type": "code",
   "execution_count": 11,
   "id": "2aaf3651",
   "metadata": {},
   "outputs": [
    {
     "data": {
      "text/plain": [
       "array([1.07285031e-35, 1.07238745e-35, 1.07173481e-35, 1.07118583e-35,\n",
       "       1.07097171e-35, 1.07088110e-35, 1.07086037e-35, 1.07094106e-35,\n",
       "       1.07124293e-35, 1.07148247e-35, 1.07152703e-35, 1.07149634e-35,\n",
       "       1.07137511e-35, 1.07102706e-35, 1.07053558e-35, 1.06995914e-35,\n",
       "       1.06953321e-35, 1.06911895e-35, 1.06857962e-35, 1.06806127e-35,\n",
       "       1.06770051e-35, 1.06727479e-35, 1.06664413e-35, 1.06586912e-35,\n",
       "       1.06522305e-35, 1.06470497e-35, 1.06426648e-35, 1.06403725e-35,\n",
       "       1.06400274e-35, 1.06408326e-35, 1.06422540e-35, 1.06456334e-35,\n",
       "       1.06497965e-35, 1.06564142e-35, 1.06590731e-35, 1.06604982e-35,\n",
       "       1.06598572e-35, 1.06560887e-35, 1.06500230e-35, 1.06431178e-35,\n",
       "       1.06366275e-35, 1.06289954e-35, 1.06236331e-35, 1.06202897e-35,\n",
       "       1.06186047e-35, 1.06175574e-35, 1.06168412e-35, 1.06155871e-35,\n",
       "       1.06115722e-35, 1.06022742e-35, 1.05899103e-35, 1.05811412e-35,\n",
       "       1.05825630e-35, 1.05904650e-35, 1.06085187e-35, 1.06317055e-35,\n",
       "       1.06528649e-35, 1.06632139e-35, 1.06658221e-35, 1.06632399e-35,\n",
       "       1.06576269e-35, 1.06514139e-35, 1.06441032e-35, 1.06357150e-35,\n",
       "       1.06239062e-35, 1.06112956e-35, 1.06022671e-35, 1.05986425e-35,\n",
       "       1.06007623e-35, 1.06055021e-35, 1.06130867e-35, 1.06156688e-35,\n",
       "       1.06114099e-35, 1.06082735e-35, 1.06099526e-35, 1.06161165e-35,\n",
       "       1.06246507e-35, 1.06331913e-35, 1.06443501e-35, 1.06530912e-35,\n",
       "       1.06584245e-35, 1.06597560e-35, 1.06598001e-35, 1.06573914e-35,\n",
       "       1.06588378e-35, 1.06663518e-35, 1.06787633e-35, 1.06978829e-35,\n",
       "       1.07081840e-35, 1.07066440e-35, 1.07076011e-35, 1.07060160e-35,\n",
       "       1.07001140e-35, 1.06972705e-35, 1.07028625e-35, 1.07141528e-35,\n",
       "       1.07331026e-35, 1.07384768e-35, 1.07450252e-35, 1.07215983e-35,\n",
       "       1.07134664e-35, 1.06822939e-35, 1.06641251e-35, 1.06156421e-35,\n",
       "       1.04805551e-35, 1.06596068e-35, 1.08005821e-35, 8.61973283e-28,\n",
       "       4.81250235e-27, 6.25447813e-27, 6.80683136e-27, 7.66941555e-27,\n",
       "       8.81683076e-27, 8.28386118e-27, 7.55295408e-27, 7.15506161e-27,\n",
       "       6.87943530e-27, 6.33770951e-27, 6.60118478e-27, 7.92893991e-27,\n",
       "       1.04085269e-26, 1.37455705e-26, 1.81647248e-26, 1.75136321e-26,\n",
       "       1.13991973e-26, 8.84688225e-27, 1.03036934e-26, 1.46727435e-26,\n",
       "       1.94074796e-26, 1.32451091e-26, 4.96519243e-27, 9.21985909e-28,\n",
       "       8.00192188e-28, 1.37310908e-27, 1.42321049e-27, 2.37414002e-27,\n",
       "       4.51349253e-27, 5.14964281e-27, 5.87304033e-27, 4.30567698e-27,\n",
       "       4.58210971e-27, 6.79900373e-27, 4.54405832e-27, 2.69403469e-27,\n",
       "       2.30216827e-27, 2.53609381e-27, 3.53257175e-27, 3.65273223e-27,\n",
       "       3.11796584e-27, 2.08694115e-27, 1.59580690e-27, 1.32742564e-27,\n",
       "       8.54164086e-28, 7.68448131e-28, 1.10443704e-27, 1.09523301e-27,\n",
       "       1.72088030e-27, 2.54466436e-27, 1.58270233e-27, 4.78678609e-28,\n",
       "       3.72985285e-28, 3.35171287e-28, 3.90042699e-28, 6.60974429e-28,\n",
       "       1.84538110e-27, 2.32190138e-27, 1.18192809e-27, 6.83266715e-28,\n",
       "       2.36219907e-28, 1.72829612e-28, 1.47953959e-28, 1.56159643e-28,\n",
       "       5.41601572e-28, 2.51327362e-27, 7.10861682e-27, 6.16770195e-27,\n",
       "       4.22360737e-27, 3.83347390e-27, 3.66154932e-27, 3.47215455e-27,\n",
       "       2.72737560e-27, 1.73175704e-27, 9.36184902e-28, 9.01828103e-28,\n",
       "       8.90695340e-28, 1.03711408e-28, 3.95105901e-35, 7.99663246e-36,\n",
       "       9.61395521e-36, 1.01606818e-35, 9.80513355e-36, 1.00504751e-35,\n",
       "       1.01756261e-35, 1.03600351e-35, 1.04223379e-35, 1.04836857e-35,\n",
       "       1.04757330e-35, 1.04774881e-35, 1.04786481e-35, 1.04789416e-35,\n",
       "       1.04821533e-35, 1.04798381e-35, 1.04823923e-35, 1.04921432e-35,\n",
       "       1.05030236e-35, 1.05096132e-35, 1.05122558e-35, 1.05145732e-35,\n",
       "       1.05188067e-35, 1.05221702e-35, 1.05235995e-35, 1.05226524e-35,\n",
       "       1.05215808e-35, 1.05219733e-35, 1.05241000e-35, 1.05272240e-35,\n",
       "       1.05294386e-35, 1.05313985e-35, 1.05347005e-35, 1.05378908e-35,\n",
       "       1.05402939e-35, 1.05408552e-35, 1.05409207e-35, 1.05405121e-35,\n",
       "       1.05399991e-35, 1.05389239e-35, 1.05377778e-35, 1.05366752e-35,\n",
       "       1.05362722e-35, 1.05370417e-35, 1.05382056e-35, 1.05388767e-35,\n",
       "       1.05398982e-35, 1.05404493e-35, 1.05417765e-35, 1.05434524e-35,\n",
       "       1.05497509e-35, 1.05570121e-35, 1.05661024e-35, 1.05739028e-35,\n",
       "       1.05820996e-35, 1.05867912e-35, 1.05869796e-35, 1.05835748e-35,\n",
       "       1.05791868e-35, 1.05759311e-35, 1.05729871e-35, 1.05722056e-35,\n",
       "       1.05737532e-35, 1.05796334e-35, 1.05851606e-35, 1.05926023e-35,\n",
       "       1.05962509e-35, 1.06000064e-35, 1.06015011e-35, 1.06051832e-35])"
      ]
     },
     "execution_count": 11,
     "metadata": {},
     "output_type": "execute_result"
    }
   ],
   "source": [
    "HI_den"
   ]
  },
  {
   "cell_type": "code",
   "execution_count": null,
   "id": "f94d6ec5",
   "metadata": {},
   "outputs": [],
   "source": []
  }
 ],
 "metadata": {
  "kernelspec": {
   "display_name": "Python 3",
   "language": "python",
   "name": "python3"
  },
  "language_info": {
   "codemirror_mode": {
    "name": "ipython",
    "version": 3
   },
   "file_extension": ".py",
   "mimetype": "text/x-python",
   "name": "python",
   "nbconvert_exporter": "python",
   "pygments_lexer": "ipython3",
   "version": "3.9.5"
  }
 },
 "nbformat": 4,
 "nbformat_minor": 5
}
